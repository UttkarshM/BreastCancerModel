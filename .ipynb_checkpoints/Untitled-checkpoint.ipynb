{
 "cells": [
  {
   "cell_type": "code",
   "execution_count": 2,
   "id": "e75b3082-59db-4f47-b84f-1ab94ef4c833",
   "metadata": {},
   "outputs": [],
   "source": [
    "###Breast Cancer Classifier###"
   ]
  },
  {
   "cell_type": "code",
   "execution_count": 3,
   "id": "659c564f-240b-496f-a31e-c4ea1380f13c",
   "metadata": {},
   "outputs": [
    {
     "name": "stdout",
     "output_type": "stream",
     "text": [
      "Package                      Version\n",
      "---------------------------- ------------\n",
      "absl-py                      2.0.0\n",
      "anyio                        4.0.0\n",
      "argon2-cffi                  23.1.0\n",
      "argon2-cffi-bindings         21.2.0\n",
      "arrow                        1.3.0\n",
      "asttokens                    2.4.1\n",
      "astunparse                   1.6.3\n",
      "async-lru                    2.0.4\n",
      "attrs                        23.1.0\n",
      "Babel                        2.13.1\n",
      "beautifulsoup4               4.12.2\n",
      "bleach                       6.1.0\n",
      "cachetools                   5.3.2\n",
      "certifi                      2023.7.22\n",
      "cffi                         1.16.0\n",
      "charset-normalizer           3.3.1\n",
      "comm                         0.2.0\n",
      "contourpy                    1.1.1\n",
      "cuda-python                  12.3.0\n",
      "cycler                       0.12.1\n",
      "debugpy                      1.8.0\n",
      "decorator                    5.1.1\n",
      "defusedxml                   0.7.1\n",
      "exceptiongroup               1.1.3\n",
      "executing                    2.0.1\n",
      "fastjsonschema               2.18.1\n",
      "flatbuffers                  23.5.26\n",
      "fonttools                    4.43.1\n",
      "fqdn                         1.5.1\n",
      "gast                         0.5.4\n",
      "google-auth                  2.23.3\n",
      "google-auth-oauthlib         1.0.0\n",
      "google-pasta                 0.2.0\n",
      "grpcio                       1.59.0\n",
      "h5py                         3.10.0\n",
      "idna                         3.4\n",
      "ipykernel                    6.26.0\n",
      "ipython                      8.17.2\n",
      "ipywidgets                   8.1.1\n",
      "isoduration                  20.11.0\n",
      "jedi                         0.19.1\n",
      "Jinja2                       3.1.2\n",
      "joblib                       1.3.2\n",
      "json5                        0.9.14\n",
      "jsonpointer                  2.4\n",
      "jsonschema                   4.19.2\n",
      "jsonschema-specifications    2023.7.1\n",
      "jupyter                      1.0.0\n",
      "jupyter_client               8.6.0\n",
      "jupyter-console              6.6.3\n",
      "jupyter_core                 5.5.0\n",
      "jupyter-events               0.9.0\n",
      "jupyter-lsp                  2.2.0\n",
      "jupyter_server               2.10.0\n",
      "jupyter_server_terminals     0.4.4\n",
      "jupyter-tabnine              1.2.3\n",
      "jupyterlab                   4.0.8\n",
      "jupyterlab-pygments          0.2.2\n",
      "jupyterlab_server            2.25.1\n",
      "jupyterlab-widgets           3.0.9\n",
      "keras                        2.14.0\n",
      "kiwisolver                   1.4.5\n",
      "libclang                     16.0.6\n",
      "Markdown                     3.5\n",
      "MarkupSafe                   2.1.3\n",
      "matplotlib                   3.8.0\n",
      "matplotlib-inline            0.1.6\n",
      "mistune                      3.0.2\n",
      "ml-dtypes                    0.2.0\n",
      "nbclient                     0.9.0\n",
      "nbconvert                    7.11.0\n",
      "nbformat                     5.9.2\n",
      "nest-asyncio                 1.5.8\n",
      "notebook                     7.0.6\n",
      "notebook_shim                0.2.3\n",
      "numpy                        1.26.1\n",
      "nvidia-cublas-cu11           11.11.3.6\n",
      "nvidia-cublas-cu12           12.3.2.9\n",
      "nvidia-cuda-nvrtc-cu12       12.3.52\n",
      "nvidia-cuda-runtime-cu12     12.3.52\n",
      "nvidia-cudnn-cu11            8.6.0.163\n",
      "nvidia-cudnn-cu12            8.9.6.50\n",
      "oauthlib                     3.2.2\n",
      "opt-einsum                   3.3.0\n",
      "overrides                    7.4.0\n",
      "packaging                    23.2\n",
      "pandas                       2.1.2\n",
      "pandocfilters                1.5.0\n",
      "parso                        0.8.3\n",
      "pexpect                      4.8.0\n",
      "Pillow                       10.1.0\n",
      "pip                          22.0.2\n",
      "platformdirs                 3.11.0\n",
      "prometheus-client            0.18.0\n",
      "prompt-toolkit               3.0.39\n",
      "protobuf                     4.24.4\n",
      "psutil                       5.9.6\n",
      "ptyprocess                   0.7.0\n",
      "pure-eval                    0.2.2\n",
      "pyasn1                       0.5.0\n",
      "pyasn1-modules               0.3.0\n",
      "pycparser                    2.21\n",
      "Pygments                     2.16.1\n",
      "pyparsing                    3.1.1\n",
      "python-dateutil              2.8.2\n",
      "python-json-logger           2.0.7\n",
      "python-version               0.0.2\n",
      "pytz                         2023.3.post1\n",
      "PyYAML                       6.0.1\n",
      "pyzmq                        25.1.1\n",
      "qtconsole                    5.5.0\n",
      "QtPy                         2.4.1\n",
      "referencing                  0.30.2\n",
      "requests                     2.31.0\n",
      "requests-oauthlib            1.3.1\n",
      "rfc3339-validator            0.1.4\n",
      "rfc3986-validator            0.1.1\n",
      "rpds-py                      0.12.0\n",
      "rsa                          4.9\n",
      "scikit-learn                 1.3.2\n",
      "scipy                        1.11.3\n",
      "seaborn                      0.13.0\n",
      "Send2Trash                   1.8.2\n",
      "setuptools                   59.6.0\n",
      "six                          1.16.0\n",
      "sniffio                      1.3.0\n",
      "soupsieve                    2.5\n",
      "stack-data                   0.6.3\n",
      "tensorboard                  2.14.1\n",
      "tensorboard-data-server      0.7.2\n",
      "tensorflow                   2.14.0\n",
      "tensorflow-estimator         2.14.0\n",
      "tensorflow-io-gcs-filesystem 0.34.0\n",
      "tensorrt                     8.6.1.post1\n",
      "tensorrt-bindings            8.6.1\n",
      "tensorrt-libs                8.6.1\n",
      "termcolor                    2.3.0\n",
      "terminado                    0.17.1\n",
      "threadpoolctl                3.2.0\n",
      "tinycss2                     1.2.1\n",
      "tomli                        2.0.1\n",
      "tornado                      6.3.3\n",
      "traitlets                    5.13.0\n",
      "types-python-dateutil        2.8.19.14\n",
      "typing_extensions            4.8.0\n",
      "tzdata                       2023.3\n",
      "uri-template                 1.3.0\n",
      "urllib3                      2.0.7\n",
      "wcwidth                      0.2.9\n",
      "webcolors                    1.13\n",
      "webencodings                 0.5.1\n",
      "websocket-client             1.6.4\n",
      "Werkzeug                     3.0.1\n",
      "wheel                        0.41.2\n",
      "widgetsnbextension           4.0.9\n",
      "wrapt                        1.14.1\n"
     ]
    }
   ],
   "source": [
    "!pip3 list"
   ]
  },
  {
   "cell_type": "code",
   "execution_count": 4,
   "id": "7707619a-367d-41fd-9cea-6196d66bc5c4",
   "metadata": {},
   "outputs": [
    {
     "name": "stderr",
     "output_type": "stream",
     "text": [
      "2023-12-17 22:25:46.495212: I tensorflow/core/util/port.cc:111] oneDNN custom operations are on. You may see slightly different numerical results due to floating-point round-off errors from different computation orders. To turn them off, set the environment variable `TF_ENABLE_ONEDNN_OPTS=0`.\n",
      "2023-12-17 22:25:46.687467: E tensorflow/compiler/xla/stream_executor/cuda/cuda_dnn.cc:9342] Unable to register cuDNN factory: Attempting to register factory for plugin cuDNN when one has already been registered\n",
      "2023-12-17 22:25:46.687526: E tensorflow/compiler/xla/stream_executor/cuda/cuda_fft.cc:609] Unable to register cuFFT factory: Attempting to register factory for plugin cuFFT when one has already been registered\n",
      "2023-12-17 22:25:46.688575: E tensorflow/compiler/xla/stream_executor/cuda/cuda_blas.cc:1518] Unable to register cuBLAS factory: Attempting to register factory for plugin cuBLAS when one has already been registered\n",
      "2023-12-17 22:25:46.776512: I tensorflow/core/platform/cpu_feature_guard.cc:182] This TensorFlow binary is optimized to use available CPU instructions in performance-critical operations.\n",
      "To enable the following instructions: AVX2 AVX512F AVX512_VNNI AVX512_BF16 FMA, in other operations, rebuild TensorFlow with the appropriate compiler flags.\n",
      "2023-12-17 22:25:47.624277: W tensorflow/compiler/tf2tensorrt/utils/py_utils.cc:38] TF-TRT Warning: Could not find TensorRT\n"
     ]
    }
   ],
   "source": [
    "import pandas as pd\n",
    "import numpy as np\n",
    "from sklearn.preprocessing import OneHotEncoder\n",
    "from sklearn.model_selection import train_test_split\n",
    "import tensorflow as tf\n",
    "import matplotlib.pyplot as plt\n",
    "from sklearn.datasets import load_breast_cancer"
   ]
  },
  {
   "cell_type": "code",
   "execution_count": 6,
   "id": "49e1171b-7c43-4142-ae44-cd8cd08893d7",
   "metadata": {},
   "outputs": [],
   "source": [
    "data = load_breast_cancer()\n",
    "X=data.data\n",
    "Y=data.target"
   ]
  },
  {
   "cell_type": "code",
   "execution_count": 7,
   "id": "66e619e5-7b2d-4496-be6e-cbda19b12f83",
   "metadata": {},
   "outputs": [],
   "source": [
    "x_train,x_test,y_train,y_test = train_test_split(np.array(X),np.array(Y),test_size=0.2)"
   ]
  },
  {
   "cell_type": "code",
   "execution_count": 18,
   "id": "0d241362-5301-421a-a1e4-13d393d13ddb",
   "metadata": {},
   "outputs": [],
   "source": [
    "model = tf.keras.models.Sequential()\n",
    "model.add(tf.keras.layers.Flatten())"
   ]
  },
  {
   "cell_type": "code",
   "execution_count": 19,
   "id": "f6493726-10c7-4430-a047-422853d58f2b",
   "metadata": {},
   "outputs": [],
   "source": [
    "model.add(tf.keras.layers.Dense(units=120,activation='relu'))\n",
    "model.add(tf.keras.layers.Dense(units=120,activation='relu'))\n",
    "model.add(tf.keras.layers.Dense(units=120,activation='relu'))\n",
    "model.add(tf.keras.layers.Dense(units=120,activation='relu'))\n",
    "model.add(tf.keras.layers.Dense(units=120,activation='relu'))\n",
    "model.add(tf.keras.layers.Dense(units=120,activation='relu'))\n",
    "\n",
    "model.add(tf.keras.layers.Dense(units=2,activation='softmax'))"
   ]
  },
  {
   "cell_type": "code",
   "execution_count": 20,
   "id": "8eaa8e74-d077-4009-a7b2-475d675b1216",
   "metadata": {},
   "outputs": [],
   "source": [
    "model.compile(optimizer='adam',loss='sparse_categorical_crossentropy',metrics=['accuracy'])\n",
    "x_train = tf.keras.utils.normalize(x_train,axis=1)\n",
    "x_test = tf.keras.utils.normalize(x_test,axis=1)"
   ]
  },
  {
   "cell_type": "code",
   "execution_count": 21,
   "id": "05707263-ffd5-49b2-b84d-6f22b39bd5e6",
   "metadata": {},
   "outputs": [
    {
     "name": "stdout",
     "output_type": "stream",
     "text": [
      "Epoch 1/10\n",
      "15/15 [==============================] - 1s 2ms/step - loss: 0.6640 - accuracy: 0.6066\n",
      "Epoch 2/10\n",
      "15/15 [==============================] - 0s 2ms/step - loss: 0.6245 - accuracy: 0.6330\n",
      "Epoch 3/10\n",
      "15/15 [==============================] - 0s 2ms/step - loss: 0.5282 - accuracy: 0.7121\n",
      "Epoch 4/10\n",
      "15/15 [==============================] - 0s 2ms/step - loss: 0.4179 - accuracy: 0.8374\n",
      "Epoch 5/10\n",
      "15/15 [==============================] - 0s 2ms/step - loss: 0.2863 - accuracy: 0.9011\n",
      "Epoch 6/10\n",
      "15/15 [==============================] - 0s 2ms/step - loss: 0.2994 - accuracy: 0.8747\n",
      "Epoch 7/10\n",
      "15/15 [==============================] - 0s 2ms/step - loss: 0.2727 - accuracy: 0.9033\n",
      "Epoch 8/10\n",
      "15/15 [==============================] - 0s 2ms/step - loss: 0.3231 - accuracy: 0.8725\n",
      "Epoch 9/10\n",
      "15/15 [==============================] - 0s 2ms/step - loss: 0.2900 - accuracy: 0.8835\n",
      "Epoch 10/10\n",
      "15/15 [==============================] - 0s 2ms/step - loss: 0.2590 - accuracy: 0.8989\n"
     ]
    },
    {
     "data": {
      "text/plain": [
       "<keras.src.callbacks.History at 0x7f5ab7e62080>"
      ]
     },
     "execution_count": 21,
     "metadata": {},
     "output_type": "execute_result"
    }
   ],
   "source": [
    "model.fit(x_train,y_train,epochs=10)"
   ]
  },
  {
   "cell_type": "code",
   "execution_count": 22,
   "id": "f7e1e954-c07e-454c-bd77-94aa42415f34",
   "metadata": {},
   "outputs": [
    {
     "name": "stdout",
     "output_type": "stream",
     "text": [
      "4/4 [==============================] - 0s 2ms/step - loss: 0.2104 - accuracy: 0.9386\n",
      "0.9385964870452881\n"
     ]
    }
   ],
   "source": [
    "loss,accuracy = model.evaluate(x_test,y_test)\n",
    "print(accuracy)"
   ]
  },
  {
   "cell_type": "code",
   "execution_count": null,
   "id": "464b6c1f-38a7-4f67-b8ef-b77beebc2afd",
   "metadata": {},
   "outputs": [],
   "source": []
  }
 ],
 "metadata": {
  "kernelspec": {
   "display_name": "Python 3 (ipykernel)",
   "language": "python",
   "name": "python3"
  },
  "language_info": {
   "codemirror_mode": {
    "name": "ipython",
    "version": 3
   },
   "file_extension": ".py",
   "mimetype": "text/x-python",
   "name": "python",
   "nbconvert_exporter": "python",
   "pygments_lexer": "ipython3",
   "version": "3.10.12"
  }
 },
 "nbformat": 4,
 "nbformat_minor": 5
}
